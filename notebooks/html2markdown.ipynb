{
 "cells": [
  {
   "cell_type": "code",
   "execution_count": 3,
   "id": "63e31531",
   "metadata": {},
   "outputs": [
    {
     "name": "stdout",
     "output_type": "stream",
     "text": [
      "Current working directory: d:\\workdir\\github-space-cap\\Jober_ai\\notebooks\n",
      "Changed to: d:\\workdir\\github-space-cap\\Jober_ai\n",
      "Markdown 변환 및 저장이 완료되었습니다!\n"
     ]
    }
   ],
   "source": [
    "import os\n",
    "from markdownify import markdownify\n",
    "\n",
    "# 현재 작업 디렉토리 확인 및 프로젝트 루트로 이동\n",
    "print(f\"Current working directory: {os.getcwd()}\")\n",
    "# 노트북에서는 상위 디렉토리로 이동\n",
    "if os.path.basename(os.getcwd()) == \"notebooks\":\n",
    "    os.chdir(\"..\")\n",
    "print(f\"Changed to: {os.getcwd()}\")\n",
    "\n",
    "# HTML 파일 읽어오기\n",
    "with open(\"output/bulbeobseupaem_bangji_202403.html\", \"r\", encoding=\"utf-8\") as f:\n",
    "    html_data = f.read()\n",
    "\n",
    "# HTML → Markdown 변환\n",
    "md_data = markdownify(html_data)\n",
    "\n",
    "# Markdown 파일로 저장\n",
    "with open(\"output/bulbeobseupaem_bangji_202403.md\", \"w\", encoding=\"utf-8\") as f:\n",
    "    f.write(md_data)\n",
    "\n",
    "print(\"Markdown 변환 및 저장이 완료되었습니다!\")"
   ]
  },
  {
   "cell_type": "code",
   "execution_count": null,
   "id": "a530038d",
   "metadata": {},
   "outputs": [],
   "source": []
  }
 ],
 "metadata": {
  "kernelspec": {
   "display_name": ".venv (3.13.5)",
   "language": "python",
   "name": "python3"
  },
  "language_info": {
   "codemirror_mode": {
    "name": "ipython",
    "version": 3
   },
   "file_extension": ".py",
   "mimetype": "text/x-python",
   "name": "python",
   "nbconvert_exporter": "python",
   "pygments_lexer": "ipython3",
   "version": "3.13.5"
  }
 },
 "nbformat": 4,
 "nbformat_minor": 5
}
