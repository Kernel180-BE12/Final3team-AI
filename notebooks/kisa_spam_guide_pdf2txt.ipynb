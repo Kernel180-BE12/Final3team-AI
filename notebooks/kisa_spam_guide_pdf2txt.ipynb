{
 "cells": [
  {
   "cell_type": "code",
   "execution_count": null,
   "id": "5fa06629",
   "metadata": {},
   "outputs": [
    {
     "name": "stdout",
     "output_type": "stream",
     "text": [
      "Current working directory: d:\\workdir\\github-space-cap\\Jober_ai\\notebooks\n",
      "Changed to: d:\\workdir\\github-space-cap\\Jober_ai\n",
      "파일 찾음: data/불법스팸_방지를_위한_정보통신망법_안내서(24.3월).pdf\n",
      "추출 결과를 output 폴더에 저장 완료!\n"
     ]
    }
   ],
   "source": [
    "import os\n",
    "from dotenv import load_dotenv\n",
    "import requests\n",
    "\n",
    "# 현재 작업 디렉토리 확인 및 프로젝트 루트로 이동\n",
    "print(f\"Current working directory: {os.getcwd()}\")\n",
    "# 노트북에서는 상위 디렉토리로 이동\n",
    "if os.path.basename(os.getcwd()) == \"notebooks\":\n",
    "    os.chdir(\"..\")\n",
    "print(f\"Changed to: {os.getcwd()}\")\n",
    "\n",
    "load_dotenv()\n",
    "api_key = os.getenv(\"UPSTAGE_API_KEY\")\n",
    "\n",
    "input_file = \"data/불법스팸_방지를_위한_정보통신망법_안내서(24.3월).pdf\"\n",
    "output_prefix = \"output/bulbeobseupaem_bangji_202403\"  # output 파일명 앞부분\n",
    "\n",
    "# 파일 존재 여부 확인\n",
    "if not os.path.exists(input_file):\n",
    "    print(f\"파일이 존재하지 않습니다: {input_file}\")\n",
    "    print(f\"현재 디렉토리의 data 폴더 내용:\")\n",
    "    if os.path.exists(\"data\"):\n",
    "        print(os.listdir(\"data\"))\n",
    "    else:\n",
    "        print(\"data 폴더가 없습니다\")\n",
    "else:\n",
    "    print(f\"파일 찾음: {input_file}\")\n",
    "\n",
    "with open(input_file, \"rb\") as f:\n",
    "    response = requests.post(\n",
    "        \"https://api.upstage.ai/v1/document-digitization\",\n",
    "        headers={\"Authorization\": f\"Bearer {api_key}\"},\n",
    "        files={\"document\": f},\n",
    "        data={\n",
    "            \"ocr\": \"force\",\n",
    "            \"coordinates\": True,\n",
    "            \"output_formats\": '[\"html\", \"text\"]',\n",
    "            \"model\": \"document-parse\",\n",
    "        },\n",
    "    )\n",
    "\n",
    "result = response.json()\n",
    "\n",
    "# output 디렉토리 생성\n",
    "os.makedirs(\"output\", exist_ok=True)\n",
    "\n",
    "# 추출된 텍스트 저장 (.txt)\n",
    "with open(f\"{output_prefix}.txt\", \"w\", encoding=\"utf-8\") as f:\n",
    "    f.write(result[\"content\"][\"text\"])\n",
    "\n",
    "# 추출된 html 저장 (.md, 원하는 경우)\n",
    "with open(f\"{output_prefix}.html\", \"w\", encoding=\"utf-8\") as f:\n",
    "    f.write(result[\"content\"][\"html\"])\n",
    "\n",
    "from markdownify import markdownify\n",
    "\n",
    "html_content = result[\"content\"][\"html\"]\n",
    "md_content = markdownify(html_content)\n",
    "with open(f\"{output_prefix}.md\", \"w\", encoding=\"utf-8\") as f:\n",
    "    f.write(md_content)\n",
    "\n",
    "# 결과 전체를 json으로 저장\n",
    "import json\n",
    "\n",
    "with open(f\"{output_prefix}.json\", \"w\", encoding=\"utf-8\") as f:\n",
    "    json.dump(result, f, ensure_ascii=False, indent=2)\n",
    "\n",
    "print(\"추출 결과를 output 폴더에 저장 완료!\")"
   ]
  },
  {
   "cell_type": "code",
   "execution_count": null,
   "id": "6964b54e",
   "metadata": {},
   "outputs": [],
   "source": []
  }
 ],
 "metadata": {
  "kernelspec": {
   "display_name": ".venv (3.13.5)",
   "language": "python",
   "name": "python3"
  },
  "language_info": {
   "codemirror_mode": {
    "name": "ipython",
    "version": 3
   },
   "file_extension": ".py",
   "mimetype": "text/x-python",
   "name": "python",
   "nbconvert_exporter": "python",
   "pygments_lexer": "ipython3",
   "version": "3.13.5"
  }
 },
 "nbformat": 4,
 "nbformat_minor": 5
}
